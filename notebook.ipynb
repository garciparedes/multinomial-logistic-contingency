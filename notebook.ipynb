{
 "cells": [
  {
   "cell_type": "markdown",
   "metadata": {},
   "source": [
    "# Regresión Logística Multinomial\n",
    "## Sergio García Prado"
   ]
  },
  {
   "cell_type": "markdown",
   "metadata": {},
   "source": [
    "Utilizando las tablas de datos en los ficheros datos1 y datos2 ajusta un modelo de regresión\n",
    "logística multinomial para predecir el grupo de pertenencia (Y) en función de las variables\n",
    "explicativas (X1,X2) (Para ello utiliza una modelización tipo Y~X1+X2).\n",
    "\n",
    "Obtén intervalos de confianza al 95% para los coeficientes de las variables explicativas en el\n",
    "modelo ajustado por el método de Wald y por el correspondiente a la verosimilitud perfil.\n",
    "\n",
    "Obtén intervalos de confianza al 95% para la probabilidad de pertenecer al grupo 2 en relación\n",
    "a la probabilidad de pertenecer al grupo 1 en los valores observados de las variables explicativas.\n",
    "\n",
    "Para los valores observados de las variables explicativas obtén estimaciones de la probabilidad\n",
    "de pertenecer a cada uno de los tres grupos.\n",
    "\n",
    "Clasifica cada individuo al grupo para el que tiene mayor probabilidad a posteriori de pertenecer\n",
    "y evalúa la clasificación obtenida\n",
    "\n",
    "Ajusta otros modelos logísticos a los datos y selecciona el que parezca más interesante.\n",
    "\n",
    "Una justificación para el modelo de odds proporcionales en la modelización por regresión\n",
    "logística de la relación entre una variable respuesta cualitativa y una variable explicativa\n",
    "numérica corresponde a que la variable cualitativa provenga de categorizar una variable\n",
    "numérica con una distribución logística.\n",
    "\n",
    "Simula 5000 observaciones de este modelo: distribución logística relacionada linealmente con\n",
    "una variable numérica y categoriza la variable numérica en 4 grupos. Ajusta una regresión\n",
    "logística multinomial de odds proporcionales a estos datos y relaciona las estimaciones de los\n",
    "parámetros con los parámetros simulados."
   ]
  },
  {
   "cell_type": "code",
   "execution_count": null,
   "metadata": {},
   "outputs": [],
   "source": [
    "rm(list = ls())"
   ]
  },
  {
   "cell_type": "code",
   "execution_count": 4,
   "metadata": {},
   "outputs": [],
   "source": [
    "datos1 <- read.table('data/datos1.txt', header = TRUE)\n",
    "datos2 <- read.table('data/datos2.txt', header = TRUE)"
   ]
  },
  {
   "cell_type": "code",
   "execution_count": null,
   "metadata": {},
   "outputs": [],
   "source": []
  }
 ],
 "metadata": {
  "kernelspec": {
   "display_name": "R",
   "language": "R",
   "name": "ir"
  },
  "language_info": {
   "codemirror_mode": "r",
   "file_extension": ".r",
   "mimetype": "text/x-r-source",
   "name": "R",
   "pygments_lexer": "r",
   "version": "3.4.4"
  }
 },
 "nbformat": 4,
 "nbformat_minor": 2
}
